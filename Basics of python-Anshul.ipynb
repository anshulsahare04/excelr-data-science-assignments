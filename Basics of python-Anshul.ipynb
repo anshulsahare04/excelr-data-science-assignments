{
 "cells": [
  {
   "cell_type": "markdown",
   "id": "c0d1bfe7-f66d-45cd-97ab-374c7b3415b7",
   "metadata": {},
   "source": [
    "## 1. Prime Numbers"
   ]
  },
  {
   "cell_type": "code",
   "execution_count": 11,
   "id": "00bb95a3-cae1-4ef3-9d51-2a50a95a2c85",
   "metadata": {},
   "outputs": [
    {
     "name": "stdin",
     "output_type": "stream",
     "text": [
      "Enter a number: 15\n"
     ]
    },
    {
     "name": "stdout",
     "output_type": "stream",
     "text": [
      "15 is not a prime number \n"
     ]
    }
   ],
   "source": [
    "x = int(input(\"Enter a number:\"))\n",
    "def prime(x):\n",
    "    if x > 1:    #Prime numbers are greator than 1\n",
    "        for i in range (2, int(x**0.5)+1):   #check divisor\n",
    "            if x % i == 0:\n",
    "                print(x,\"is not a prime number \")\n",
    "                return     #use return(exit) function after finding divisor\n",
    "        print(x,\"is a prime number\")   #No divisor found\n",
    "    else:\n",
    "        print(x,\"is not a prime number\")  #number lesser than equal to 1 are not prime.\n",
    "prime(x)"
   ]
  },
  {
   "cell_type": "markdown",
   "id": "d0aebf3d-4f60-4408-90e6-7ac8d176947b",
   "metadata": {},
   "source": [
    "## 2.Product of random numbers"
   ]
  },
  {
   "cell_type": "code",
   "execution_count": 37,
   "id": "6580d52e-4114-4fba-99a8-636aaf3fad6b",
   "metadata": {},
   "outputs": [
    {
     "name": "stdout",
     "output_type": "stream",
     "text": [
      "Two random numbers are 25 and 30\n"
     ]
    },
    {
     "name": "stdin",
     "output_type": "stream",
     "text": [
      "Enter the Product of these numbers 750\n"
     ]
    },
    {
     "name": "stdout",
     "output_type": "stream",
     "text": [
      "Right Answer\n"
     ]
    }
   ],
   "source": [
    "import random\n",
    "\n",
    "A=random.randint(0,50)\n",
    "B=random.randint(0,50)\n",
    "\n",
    "print('Two random numbers are', A,'and', B)\n",
    "\n",
    "x=int(input('Enter the Product of these numbers'))\n",
    "\n",
    "if x==A*B:\n",
    "    print('Right Answer')\n",
    "else:\n",
    "    print('Wrong Answer')"
   ]
  },
  {
   "cell_type": "markdown",
   "id": "9c136124-a41c-4bdb-aac0-8bfc226a8a68",
   "metadata": {},
   "source": [
    "## 3.Squares of Even/Odd Numbers"
   ]
  },
  {
   "cell_type": "code",
   "execution_count": 53,
   "id": "742ad588-2c2f-4edc-85db-a096da7ff8e9",
   "metadata": {},
   "outputs": [
    {
     "name": "stdout",
     "output_type": "stream",
     "text": [
      "Squares of even numbers within the range of 100 to 200:\n",
      "100 : 10000\n",
      "102 : 10404\n",
      "104 : 10816\n",
      "106 : 11236\n",
      "108 : 11664\n",
      "110 : 12100\n",
      "112 : 12544\n",
      "114 : 12996\n",
      "116 : 13456\n",
      "118 : 13924\n",
      "120 : 14400\n",
      "122 : 14884\n",
      "124 : 15376\n",
      "126 : 15876\n",
      "128 : 16384\n",
      "130 : 16900\n",
      "132 : 17424\n",
      "134 : 17956\n",
      "136 : 18496\n",
      "138 : 19044\n",
      "140 : 19600\n",
      "142 : 20164\n",
      "144 : 20736\n",
      "146 : 21316\n",
      "148 : 21904\n",
      "150 : 22500\n",
      "152 : 23104\n",
      "154 : 23716\n",
      "156 : 24336\n",
      "158 : 24964\n",
      "160 : 25600\n",
      "162 : 26244\n",
      "164 : 26896\n",
      "166 : 27556\n",
      "168 : 28224\n",
      "170 : 28900\n",
      "172 : 29584\n",
      "174 : 30276\n",
      "176 : 30976\n",
      "178 : 31684\n",
      "180 : 32400\n",
      "182 : 33124\n",
      "184 : 33856\n",
      "186 : 34596\n",
      "188 : 35344\n",
      "190 : 36100\n",
      "192 : 36864\n",
      "194 : 37636\n",
      "196 : 38416\n",
      "198 : 39204\n"
     ]
    }
   ],
   "source": [
    "def even_squares():   #for even square no.\n",
    "    print(\"Squares of even numbers within the range of 100 to 200:\")\n",
    "    for x in range(100, 200):\n",
    "        if x%2==0:\n",
    "            print(x, ':', x ** 2)\n",
    "even_squares()"
   ]
  },
  {
   "cell_type": "markdown",
   "id": "5bd7605e-9483-4bf2-bc27-aa850d141bf3",
   "metadata": {},
   "source": [
    "## 4.Word counter"
   ]
  },
  {
   "cell_type": "code",
   "execution_count": 1,
   "id": "de84b796-83a5-4d72-87d3-8fd6e5c98a98",
   "metadata": {},
   "outputs": [
    {
     "name": "stdout",
     "output_type": "stream",
     "text": [
      "This': 2\n",
      "is': 1\n",
      "a': 1\n",
      "sample': 1\n",
      "text': 2\n",
      "will': 1\n",
      "be': 1\n",
      "used': 1\n",
      "to': 1\n",
      "demonstrate': 1\n",
      "the': 1\n",
      "word': 1\n",
      "counter': 1\n"
     ]
    }
   ],
   "source": [
    "def word_counter(input_text):\n",
    "    words = input_text.split()     # Split the input text into words using spaces\n",
    "    word_count = {}          # Create a dictionary to store word counts\n",
    "\n",
    "    # Count the frequecny of each word\n",
    "    for word in words:\n",
    "        word = word.strip('.,!?')      # Remove punctuation from the  written word\n",
    "\n",
    "        if word in word_count:\n",
    "            word_count[word] += 1      # Increase the count for the word\n",
    "        else:\n",
    "            word_count[word]= 1\n",
    "        \n",
    "    # Print the word counts\n",
    "    for word, count in word_count.items():\n",
    "        print(f\"{word}': {count}\")\n",
    "\n",
    "# Example usage\n",
    "input_text = \"This is a sample text. This text will be used to demonstrate the word counter.\"\n",
    "word_counter(input_text)\n"
   ]
  },
  {
   "cell_type": "markdown",
   "id": "670e2432-ef55-4513-b47e-5937e73d67f6",
   "metadata": {},
   "source": [
    "## 5.Check for Palindrome"
   ]
  },
  {
   "cell_type": "code",
   "execution_count": 21,
   "id": "dfd07574-d760-4aa9-9b45-25cac586536e",
   "metadata": {},
   "outputs": [
    {
     "name": "stdin",
     "output_type": "stream",
     "text": [
      "Enter the value: racecar\n"
     ]
    },
    {
     "name": "stdout",
     "output_type": "stream",
     "text": [
      "Its a Palindrome and its True\n"
     ]
    }
   ],
   "source": [
    "str1=input(\"Enter the value:\")\n",
    "reversed_str=str1[::-1]  #reverse the sting\n",
    "if str1==reversed_str:\n",
    "    print(\"Its a Palindrome and its True\")\n",
    "else:\n",
    "    print(\"Its not a Palindrome and its False\") "
   ]
  },
  {
   "cell_type": "code",
   "execution_count": null,
   "id": "400059c3-a4e2-4921-999d-4a7748f7a82e",
   "metadata": {},
   "outputs": [],
   "source": []
  }
 ],
 "metadata": {
  "kernelspec": {
   "display_name": "Python [conda env:base] *",
   "language": "python",
   "name": "conda-base-py"
  },
  "language_info": {
   "codemirror_mode": {
    "name": "ipython",
    "version": 3
   },
   "file_extension": ".py",
   "mimetype": "text/x-python",
   "name": "python",
   "nbconvert_exporter": "python",
   "pygments_lexer": "ipython3",
   "version": "3.12.7"
  }
 },
 "nbformat": 4,
 "nbformat_minor": 5
}

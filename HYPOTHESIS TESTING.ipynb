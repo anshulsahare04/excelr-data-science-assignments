{
 "cells": [
  {
   "cell_type": "markdown",
   "id": "474e2c31-2e59-4b5b-8d0b-ce65023e0ba2",
   "metadata": {},
   "source": [
    "## HYPOTHESIS TESTING"
   ]
  },
  {
   "cell_type": "raw",
   "id": "3078ce51-7f0e-413d-a381-d859dd656369",
   "metadata": {},
   "source": [
    "\n",
    "Compare the test statiBackground:\n",
    "Bombay hospitality Ltd. operates a franchise model for producing exotic Norwegian dinners throughout New England. The operating cost for a franchise in a week (W) is given by the equation W = $1,000 + $5X, where X represents the number of units produced in a week. Recent feedback from restaurant owners suggests that this cost model may no longer be accurate, as their observed weekly operating costs are higher.\n",
    "\n",
    "Objective:\n",
    "To investigate the restaurant owners' claim about the increase in weekly operating costs using hypothesis testing.\n",
    "\n",
    "Data Provided:\n",
    "•\tThe theoretical weekly operating cost model: W = $1,000 + $5X\n",
    "•\tSample of 25 restaurants with a mean weekly cost of Rs. 3,050\n",
    "•\tNumber of units produced in a week (X) follows a normal distribution with a mean (μ) of 600 units and a standard deviation (σ) of 25 units\n",
    "\n",
    "Assignment Tasks:\n",
    "1. State the Hypotheses statement:\n",
    "\n",
    "2. Calculate the Test Statistic:\n",
    "Use the following formula to calculate the test statistic (t):\n",
    "where:\n",
    "•\tˉxˉ = sample mean weekly cost (Rs. 3,050)\n",
    "•\tμ = theoretical mean weekly cost according to the cost model (W = $1,000 + $5X for X = 600 units)\n",
    "•\tσ = 5*25 units\n",
    "•\tn = sample size (25 restaurants)\n",
    "\n",
    "3. Determine the Critical Value:\n",
    "Using the alpha level of 5% (α = 0.05), determine the critical value from the standard normal (Z) distribution table.\n",
    "\n",
    "4. Make a Decision:stic with the critical value to decide whether to reject the null hypothesis.\n",
    "\n",
    "5. Conclusion:\n",
    "Based on the decision in step 4, conclude whether there is strong evidence to support the restaurant owners' claim that the weekly operating costs are higher than the model suggests.\n",
    "\n",
    "Submission Guidelines:\n",
    "•\tPrepare python file detailing each step of your hypothesis testing process.\n",
    "•\tInclude calculations for the test statistic and the critical value.\n",
    "•\tProvide a clear conclusion based on your analysis.\n"
   ]
  },
  {
   "cell_type": "code",
   "execution_count": 4,
   "id": "8de87438-5751-4b53-b368-7d826e10f088",
   "metadata": {},
   "outputs": [],
   "source": [
    "import numpy as np\n",
    "import scipy.stats as stats"
   ]
  },
  {
   "cell_type": "raw",
   "id": "45ee06ec-3837-47aa-8946-bfeac7b2ac49",
   "metadata": {},
   "source": [
    "1.\n",
    "A hypothesis statement is a clear and testable prediction about the relationship between variables. It typically takes one of the following forms:\n",
    "\n",
    "Null Hypothesis (H₀): Assumes no effect or no difference between variables.\n",
    "Alternative Hypothesis (H₁ or Hₐ): Assumes there is an effect or a difference."
   ]
  },
  {
   "cell_type": "code",
   "execution_count": 11,
   "id": "237af1eb-562e-420d-8e6c-a6b9104b0060",
   "metadata": {},
   "outputs": [],
   "source": [
    "#2. Given data\n",
    "sample_mean=3050  #sample mean weekly cost in ruppes.\n",
    "theoratical_mean=1000 + 5 * 600    #theoratically mean weekly cost according to the cost model.\n",
    "alpha=0.05\n",
    "sample_size=25\n",
    "standard_dev=5*25"
   ]
  },
  {
   "cell_type": "code",
   "execution_count": 23,
   "id": "cb6bbdeb-a284-47fe-b0ae-a142d647df45",
   "metadata": {},
   "outputs": [],
   "source": [
    "# 3. Calculateing the Test Statistic(z_score):\n",
    "\n",
    "z_score = (sample_mean - theoratical_mean) / (standard_dev / np.sqrt(sample_size))"
   ]
  },
  {
   "cell_type": "code",
   "execution_count": 25,
   "id": "229ed1c6-751f-42e8-927f-f9eb071fa5a0",
   "metadata": {},
   "outputs": [
    {
     "data": {
      "text/plain": [
       "-38.0"
      ]
     },
     "execution_count": 25,
     "metadata": {},
     "output_type": "execute_result"
    }
   ],
   "source": [
    "z_score"
   ]
  },
  {
   "cell_type": "code",
   "execution_count": 29,
   "id": "f609c78a-861c-43d7-91e7-d347a285deb3",
   "metadata": {},
   "outputs": [],
   "source": [
    "#4.Determine the Critical Value(z_critical) .Using the alpha level of 5% (α = 0.05)\n",
    "\n",
    "z_critical = stats.norm.ppf(0.05)"
   ]
  },
  {
   "cell_type": "code",
   "execution_count": 31,
   "id": "79290e5a-adce-43bf-bc5e-f97dae401c5b",
   "metadata": {},
   "outputs": [
    {
     "data": {
      "text/plain": [
       "-1.6448536269514729"
      ]
     },
     "execution_count": 31,
     "metadata": {},
     "output_type": "execute_result"
    }
   ],
   "source": [
    "z_critical"
   ]
  },
  {
   "cell_type": "code",
   "execution_count": 45,
   "id": "a9440492-2479-4c25-a38d-9a3ccb47aa1f",
   "metadata": {},
   "outputs": [
    {
     "name": "stdout",
     "output_type": "stream",
     "text": [
      "Fail to reject the null hypothesis. There is no strong evidence of an increase in weekly operating costs.\n"
     ]
    }
   ],
   "source": [
    "#5. Make a decision:\n",
    "if z_score > z_critical:\n",
    "    print('Reject the null hypothesis. There is evidence that the weekly operating costs are higher.')\n",
    "else:\n",
    "    print('Fail to reject the null hypothesis. There is no strong evidence of an increase in weekly operating costs.')"
   ]
  },
  {
   "cell_type": "raw",
   "id": "9eb89aed-e78f-427e-98b7-918abf6d3470",
   "metadata": {},
   "source": [
    "#6. conclusion\n",
    "Based on the hypothesis test, we conclude that there is sufficient statistical evidence to support the claim that the weekly operating costs have increased."
   ]
  },
  {
   "cell_type": "code",
   "execution_count": null,
   "id": "59eaed1a-36e0-441c-a62f-8a49beaec963",
   "metadata": {},
   "outputs": [],
   "source": []
  }
 ],
 "metadata": {
  "kernelspec": {
   "display_name": "Python [conda env:base] *",
   "language": "python",
   "name": "conda-base-py"
  },
  "language_info": {
   "codemirror_mode": {
    "name": "ipython",
    "version": 3
   },
   "file_extension": ".py",
   "mimetype": "text/x-python",
   "name": "python",
   "nbconvert_exporter": "python",
   "pygments_lexer": "ipython3",
   "version": "3.12.7"
  }
 },
 "nbformat": 4,
 "nbformat_minor": 5
}

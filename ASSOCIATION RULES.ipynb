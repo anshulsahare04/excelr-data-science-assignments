{
 "cells": [
  {
   "cell_type": "raw",
   "id": "f3da31e6-e49a-4bde-9be9-c614b2ffe83c",
   "metadata": {},
   "source": [
    "ASSOCIATION RULES\n",
    "\n",
    "The Objective of this assignment is to introduce students to rule mining techniques, particularly focusing on market basket analysis and provide hands on experience.\n",
    "\n",
    "Dataset:\n",
    "Use the Online retail dataset to apply the association rules.\n",
    "\n",
    "Data Preprocessing:\n",
    "Pre-process the dataset to ensure it is suitable for Association rules, this may include handling missing values, removing duplicates, and converting the data to appropriate format.  \n",
    "\n",
    "Association Rule Mining:\n",
    "•\tImplement an Apriori algorithm using tool like python with libraries such as Pandas and Mlxtend etc.\n",
    "•\t Apply association rule mining techniques to the pre-processed dataset to discover interesting relationships between products purchased together.\n",
    "•\tSet appropriate threshold for support, confidence and lift to extract meaning full rules.\n",
    "\n",
    "Analysis and Interpretation:\n",
    "•\tAnalyse the generated rules to identify interesting patterns and relationships between the products.\n",
    "•\tInterpret the results and provide insights into customer purchasing behaviour based on the discovered rules.\n"
   ]
  },
  {
   "cell_type": "code",
   "execution_count": 10,
   "id": "b71c9894-1d6e-4e51-a474-c91afd85d33e",
   "metadata": {},
   "outputs": [
    {
     "name": "stdout",
     "output_type": "stream",
     "text": [
      "Requirement already satisfied: mlxtend in c:\\users\\hp\\anaconda3\\lib\\site-packages (0.23.4)\n",
      "Requirement already satisfied: scipy>=1.2.1 in c:\\users\\hp\\anaconda3\\lib\\site-packages (from mlxtend) (1.13.1)\n",
      "Requirement already satisfied: numpy>=1.16.2 in c:\\users\\hp\\anaconda3\\lib\\site-packages (from mlxtend) (1.26.4)\n",
      "Requirement already satisfied: pandas>=0.24.2 in c:\\users\\hp\\anaconda3\\lib\\site-packages (from mlxtend) (2.2.2)\n",
      "Requirement already satisfied: scikit-learn>=1.3.1 in c:\\users\\hp\\anaconda3\\lib\\site-packages (from mlxtend) (1.5.1)\n",
      "Requirement already satisfied: matplotlib>=3.0.0 in c:\\users\\hp\\anaconda3\\lib\\site-packages (from mlxtend) (3.9.2)\n",
      "Requirement already satisfied: joblib>=0.13.2 in c:\\users\\hp\\anaconda3\\lib\\site-packages (from mlxtend) (1.4.2)\n",
      "Requirement already satisfied: contourpy>=1.0.1 in c:\\users\\hp\\anaconda3\\lib\\site-packages (from matplotlib>=3.0.0->mlxtend) (1.2.0)\n",
      "Requirement already satisfied: cycler>=0.10 in c:\\users\\hp\\anaconda3\\lib\\site-packages (from matplotlib>=3.0.0->mlxtend) (0.11.0)\n",
      "Requirement already satisfied: fonttools>=4.22.0 in c:\\users\\hp\\anaconda3\\lib\\site-packages (from matplotlib>=3.0.0->mlxtend) (4.51.0)\n",
      "Requirement already satisfied: kiwisolver>=1.3.1 in c:\\users\\hp\\anaconda3\\lib\\site-packages (from matplotlib>=3.0.0->mlxtend) (1.4.4)\n",
      "Requirement already satisfied: packaging>=20.0 in c:\\users\\hp\\anaconda3\\lib\\site-packages (from matplotlib>=3.0.0->mlxtend) (24.1)\n",
      "Requirement already satisfied: pillow>=8 in c:\\users\\hp\\anaconda3\\lib\\site-packages (from matplotlib>=3.0.0->mlxtend) (10.4.0)\n",
      "Requirement already satisfied: pyparsing>=2.3.1 in c:\\users\\hp\\anaconda3\\lib\\site-packages (from matplotlib>=3.0.0->mlxtend) (3.1.2)\n",
      "Requirement already satisfied: python-dateutil>=2.7 in c:\\users\\hp\\anaconda3\\lib\\site-packages (from matplotlib>=3.0.0->mlxtend) (2.9.0.post0)\n",
      "Requirement already satisfied: pytz>=2020.1 in c:\\users\\hp\\anaconda3\\lib\\site-packages (from pandas>=0.24.2->mlxtend) (2024.1)\n",
      "Requirement already satisfied: tzdata>=2022.7 in c:\\users\\hp\\anaconda3\\lib\\site-packages (from pandas>=0.24.2->mlxtend) (2023.3)\n",
      "Requirement already satisfied: threadpoolctl>=3.1.0 in c:\\users\\hp\\anaconda3\\lib\\site-packages (from scikit-learn>=1.3.1->mlxtend) (3.5.0)\n",
      "Requirement already satisfied: six>=1.5 in c:\\users\\hp\\anaconda3\\lib\\site-packages (from python-dateutil>=2.7->matplotlib>=3.0.0->mlxtend) (1.16.0)\n",
      "Note: you may need to restart the kernel to use updated packages.\n"
     ]
    }
   ],
   "source": [
    "pip install mlxtend"
   ]
  },
  {
   "cell_type": "code",
   "execution_count": 11,
   "id": "01ba4c8f-33d8-4d6f-a9b7-1c5fe085fe18",
   "metadata": {},
   "outputs": [],
   "source": [
    "import pandas as pd\n",
    "from mlxtend.frequent_patterns import association_rules,apriori\n",
    "from mlxtend.preprocessing import TransactionEncoder"
   ]
  },
  {
   "cell_type": "code",
   "execution_count": 12,
   "id": "daa42dec-51bc-45c2-8802-19108cfc51d2",
   "metadata": {},
   "outputs": [],
   "source": [
    "import warnings\n",
    "warnings.filterwarnings('ignore')"
   ]
  },
  {
   "cell_type": "code",
   "execution_count": 13,
   "id": "59eb8064-4904-43b6-8e85-4070ef7b55db",
   "metadata": {},
   "outputs": [],
   "source": [
    "#Load the dataset\n",
    "df = pd.read_excel(r\"C:\\Users\\HP\\Videos\\Assignments\\Online retail.xlsx\")"
   ]
  },
  {
   "cell_type": "code",
   "execution_count": 14,
   "id": "57e83003-9597-422b-98a3-79f76a45289d",
   "metadata": {},
   "outputs": [
    {
     "data": {
      "text/html": [
       "<div>\n",
       "<style scoped>\n",
       "    .dataframe tbody tr th:only-of-type {\n",
       "        vertical-align: middle;\n",
       "    }\n",
       "\n",
       "    .dataframe tbody tr th {\n",
       "        vertical-align: top;\n",
       "    }\n",
       "\n",
       "    .dataframe thead th {\n",
       "        text-align: right;\n",
       "    }\n",
       "</style>\n",
       "<table border=\"1\" class=\"dataframe\">\n",
       "  <thead>\n",
       "    <tr style=\"text-align: right;\">\n",
       "      <th></th>\n",
       "      <th>shrimp,almonds,avocado,vegetables mix,green grapes,whole weat flour,yams,cottage cheese,energy drink,tomato juice,low fat yogurt,green tea,honey,salad,mineral water,salmon,antioxydant juice,frozen smoothie,spinach,olive oil</th>\n",
       "    </tr>\n",
       "  </thead>\n",
       "  <tbody>\n",
       "    <tr>\n",
       "      <th>0</th>\n",
       "      <td>burgers,meatballs,eggs</td>\n",
       "    </tr>\n",
       "    <tr>\n",
       "      <th>1</th>\n",
       "      <td>chutney</td>\n",
       "    </tr>\n",
       "    <tr>\n",
       "      <th>2</th>\n",
       "      <td>turkey,avocado</td>\n",
       "    </tr>\n",
       "    <tr>\n",
       "      <th>3</th>\n",
       "      <td>mineral water,milk,energy bar,whole wheat rice...</td>\n",
       "    </tr>\n",
       "    <tr>\n",
       "      <th>4</th>\n",
       "      <td>low fat yogurt</td>\n",
       "    </tr>\n",
       "    <tr>\n",
       "      <th>...</th>\n",
       "      <td>...</td>\n",
       "    </tr>\n",
       "    <tr>\n",
       "      <th>7495</th>\n",
       "      <td>butter,light mayo,fresh bread</td>\n",
       "    </tr>\n",
       "    <tr>\n",
       "      <th>7496</th>\n",
       "      <td>burgers,frozen vegetables,eggs,french fries,ma...</td>\n",
       "    </tr>\n",
       "    <tr>\n",
       "      <th>7497</th>\n",
       "      <td>chicken</td>\n",
       "    </tr>\n",
       "    <tr>\n",
       "      <th>7498</th>\n",
       "      <td>escalope,green tea</td>\n",
       "    </tr>\n",
       "    <tr>\n",
       "      <th>7499</th>\n",
       "      <td>eggs,frozen smoothie,yogurt cake,low fat yogurt</td>\n",
       "    </tr>\n",
       "  </tbody>\n",
       "</table>\n",
       "<p>7500 rows × 1 columns</p>\n",
       "</div>"
      ],
      "text/plain": [
       "     shrimp,almonds,avocado,vegetables mix,green grapes,whole weat flour,yams,cottage cheese,energy drink,tomato juice,low fat yogurt,green tea,honey,salad,mineral water,salmon,antioxydant juice,frozen smoothie,spinach,olive oil\n",
       "0                                burgers,meatballs,eggs                                                                                                                                                                             \n",
       "1                                               chutney                                                                                                                                                                             \n",
       "2                                        turkey,avocado                                                                                                                                                                             \n",
       "3     mineral water,milk,energy bar,whole wheat rice...                                                                                                                                                                             \n",
       "4                                        low fat yogurt                                                                                                                                                                             \n",
       "...                                                 ...                                                                                                                                                                             \n",
       "7495                      butter,light mayo,fresh bread                                                                                                                                                                             \n",
       "7496  burgers,frozen vegetables,eggs,french fries,ma...                                                                                                                                                                             \n",
       "7497                                            chicken                                                                                                                                                                             \n",
       "7498                                 escalope,green tea                                                                                                                                                                             \n",
       "7499    eggs,frozen smoothie,yogurt cake,low fat yogurt                                                                                                                                                                             \n",
       "\n",
       "[7500 rows x 1 columns]"
      ]
     },
     "execution_count": 14,
     "metadata": {},
     "output_type": "execute_result"
    }
   ],
   "source": [
    "df"
   ]
  },
  {
   "cell_type": "code",
   "execution_count": 15,
   "id": "5e59ba72-9a03-458d-aa1c-9421443af215",
   "metadata": {},
   "outputs": [
    {
     "data": {
      "text/plain": [
       "0                              [burgers, meatballs, eggs]\n",
       "1                                               [chutney]\n",
       "2                                       [turkey, avocado]\n",
       "3       [mineral water, milk, energy bar, whole wheat ...\n",
       "4                                        [low fat yogurt]\n",
       "                              ...                        \n",
       "7495                    [butter, light mayo, fresh bread]\n",
       "7496    [burgers, frozen vegetables, eggs, french frie...\n",
       "7497                                            [chicken]\n",
       "7498                                [escalope, green tea]\n",
       "7499    [eggs, frozen smoothie, yogurt cake, low fat y...\n",
       "Name: shrimp,almonds,avocado,vegetables mix,green grapes,whole weat flour,yams,cottage cheese,energy drink,tomato juice,low fat yogurt,green tea,honey,salad,mineral water,salmon,antioxydant juice,frozen smoothie,spinach,olive oil, Length: 7500, dtype: object"
      ]
     },
     "execution_count": 15,
     "metadata": {},
     "output_type": "execute_result"
    }
   ],
   "source": [
    "# Split the transaction items and create a one-hot encoding.\n",
    "transactions = df[df.columns[0]].dropna().apply(lambda x: x.split(','))\n",
    "transactions"
   ]
  },
  {
   "cell_type": "code",
   "execution_count": 16,
   "id": "339b3162-9ac9-4d42-8bee-d7ad23815b96",
   "metadata": {},
   "outputs": [
    {
     "name": "stdout",
     "output_type": "stream",
     "text": [
      "0                           [burgers, meatballs, eggs]\n",
      "1                                            [chutney]\n",
      "2                                    [turkey, avocado]\n",
      "3    [mineral water, milk, energy bar, whole wheat ...\n",
      "4                                     [low fat yogurt]\n",
      "Name: shrimp,almonds,avocado,vegetables mix,green grapes,whole weat flour,yams,cottage cheese,energy drink,tomato juice,low fat yogurt,green tea,honey,salad,mineral water,salmon,antioxydant juice,frozen smoothie,spinach,olive oil, dtype: object\n"
     ]
    }
   ],
   "source": [
    "# Display the first few transactions\n",
    "print(transactions[:5])"
   ]
  },
  {
   "cell_type": "code",
   "execution_count": 17,
   "id": "c15ba1fb-3bbe-4a93-8019-178612165fee",
   "metadata": {},
   "outputs": [
    {
     "name": "stdout",
     "output_type": "stream",
     "text": [
      "[' asparagus', 'almonds', 'antioxydant juice', 'asparagus', 'avocado', 'babies food', 'bacon', 'barbecue sauce', 'black tea', 'blueberries', 'body spray', 'bramble', 'brownies', 'bug spray', 'burger sauce', 'burgers', 'butter', 'cake', 'candy bars', 'carrots', 'cauliflower', 'cereals', 'champagne', 'chicken', 'chili', 'chocolate', 'chocolate bread', 'chutney', 'cider', 'clothes accessories', 'cookies', 'cooking oil', 'corn', 'cottage cheese', 'cream', 'dessert wine', 'eggplant', 'eggs', 'energy bar', 'energy drink', 'escalope', 'extra dark chocolate', 'flax seed', 'french fries', 'french wine', 'fresh bread', 'fresh tuna', 'fromage blanc', 'frozen smoothie', 'frozen vegetables', 'gluten free bar', 'grated cheese', 'green beans', 'green grapes', 'green tea', 'ground beef', 'gums', 'ham', 'hand protein bar', 'herb & pepper', 'honey', 'hot dogs', 'ketchup', 'light cream', 'light mayo', 'low fat yogurt', 'magazines', 'mashed potato', 'mayonnaise', 'meatballs', 'melons', 'milk', 'mineral water', 'mint', 'mint green tea', 'muffins', 'mushroom cream sauce', 'napkins', 'nonfat milk', 'oatmeal', 'oil', 'olive oil', 'pancakes', 'parmesan cheese', 'pasta', 'pepper', 'pet food', 'pickles', 'protein bar', 'red wine', 'rice', 'salad', 'salmon', 'salt', 'sandwich', 'shallot', 'shampoo', 'shrimp', 'soda', 'soup', 'spaghetti', 'sparkling water', 'spinach', 'strawberries', 'strong cheese', 'tea', 'tomato juice', 'tomato sauce', 'tomatoes', 'toothpaste', 'turkey', 'vegetables mix', 'water spray', 'white wine', 'whole weat flour', 'whole wheat pasta', 'whole wheat rice', 'yams', 'yogurt cake', 'zucchini']\n"
     ]
    }
   ],
   "source": [
    "# unique items in all transactions\n",
    "unique_items = sorted(list(set(item for transaction in transactions for item in transaction)))\n",
    "print(unique_items)"
   ]
  },
  {
   "cell_type": "code",
   "execution_count": 18,
   "id": "fd833011-62a2-4f73-874e-e8e5c52dcc3f",
   "metadata": {},
   "outputs": [
    {
     "name": "stdout",
     "output_type": "stream",
     "text": [
      "      support                                 itemsets\n",
      "0    0.020267                                (almonds)\n",
      "1    0.033200                                (avocado)\n",
      "2    0.010800                         (barbecue sauce)\n",
      "3    0.014267                              (black tea)\n",
      "4    0.011467                             (body spray)\n",
      "..        ...                                      ...\n",
      "254  0.011067       (ground beef, mineral water, milk)\n",
      "255  0.017067  (spaghetti, ground beef, mineral water)\n",
      "256  0.015733         (spaghetti, mineral water, milk)\n",
      "257  0.010267    (olive oil, mineral water, spaghetti)\n",
      "258  0.011467     (spaghetti, mineral water, pancakes)\n",
      "\n",
      "[259 rows x 2 columns]\n"
     ]
    }
   ],
   "source": [
    "# Convert transactions into a one-hot encoded DataFrame\n",
    "one_hot_encoded_df = pd.DataFrame(0, index=range(len(transactions)), columns=unique_items)\n",
    "\n",
    "for i, transaction in enumerate(transactions):\n",
    "    for item in transaction:\n",
    "        one_hot_encoded_df.at[i, item.strip()] = 1\n",
    "\n",
    "# Apply the Apriori algorithm\n",
    "min_support = 0.01  # Minimum support threshold\n",
    "frequent_itemsets = apriori(one_hot_encoded_df, min_support=min_support, use_colnames=True)\n",
    "\n",
    "print(frequent_itemsets)"
   ]
  },
  {
   "cell_type": "code",
   "execution_count": 22,
   "id": "57daa234-14ac-40fa-8e7c-82c1babaa09a",
   "metadata": {},
   "outputs": [],
   "source": [
    "#Initialize the transaction encoder\n",
    "te=TransactionEncoder()"
   ]
  },
  {
   "cell_type": "code",
   "execution_count": 28,
   "id": "ee80d48a-67a1-4e5f-a212-473d44f970ec",
   "metadata": {},
   "outputs": [],
   "source": [
    "# Fit and transform the transactions into an array format\n",
    "te_ary = te.fit(transactions).transform(transactions)"
   ]
  },
  {
   "cell_type": "code",
   "execution_count": 29,
   "id": "45eb0570-5cc0-4396-b4fc-b478c2eab5be",
   "metadata": {},
   "outputs": [],
   "source": [
    "# Convert the array into a DataFrame\n",
    "basket = pd.DataFrame(te_ary, columns=te.columns_)"
   ]
  },
  {
   "cell_type": "code",
   "execution_count": 32,
   "id": "d1ad8b62-00d8-47f1-9b92-23f01f361c51",
   "metadata": {},
   "outputs": [
    {
     "name": "stdout",
     "output_type": "stream",
     "text": [
      "    asparagus  almonds  antioxydant juice  asparagus  avocado  babies food  \\\n",
      "0       False    False              False      False    False        False   \n",
      "1       False    False              False      False    False        False   \n",
      "2       False    False              False      False     True        False   \n",
      "3       False    False              False      False    False        False   \n",
      "4       False    False              False      False    False        False   \n",
      "\n",
      "   bacon  barbecue sauce  black tea  blueberries  ...  turkey  vegetables mix  \\\n",
      "0  False           False      False        False  ...   False           False   \n",
      "1  False           False      False        False  ...   False           False   \n",
      "2  False           False      False        False  ...    True           False   \n",
      "3  False           False      False        False  ...   False           False   \n",
      "4  False           False      False        False  ...   False           False   \n",
      "\n",
      "   water spray  white wine  whole weat flour  whole wheat pasta  \\\n",
      "0        False       False             False              False   \n",
      "1        False       False             False              False   \n",
      "2        False       False             False              False   \n",
      "3        False       False             False              False   \n",
      "4        False       False             False              False   \n",
      "\n",
      "   whole wheat rice   yams  yogurt cake  zucchini  \n",
      "0             False  False        False     False  \n",
      "1             False  False        False     False  \n",
      "2             False  False        False     False  \n",
      "3              True  False        False     False  \n",
      "4             False  False        False     False  \n",
      "\n",
      "[5 rows x 120 columns]\n"
     ]
    }
   ],
   "source": [
    "# Display the first few rows of the basket\n",
    "print(basket.head())"
   ]
  },
  {
   "cell_type": "markdown",
   "id": "af744a65-6e31-47a6-b6e5-42e1d4f87fde",
   "metadata": {},
   "source": [
    "### Association Rule Mining:"
   ]
  },
  {
   "cell_type": "code",
   "execution_count": 41,
   "id": "097ffb83-e1f1-460f-a8dd-5d20ae68d702",
   "metadata": {},
   "outputs": [
    {
     "name": "stdout",
     "output_type": "stream",
     "text": [
      "    support          itemsets\n",
      "0  0.020267         (almonds)\n",
      "1  0.033200         (avocado)\n",
      "2  0.010800  (barbecue sauce)\n",
      "3  0.014267       (black tea)\n",
      "4  0.011467      (body spray)\n",
      "       antecedents      consequents  antecedent support  consequent support  \\\n",
      "0        (avocado)  (mineral water)            0.033200            0.238267   \n",
      "1  (mineral water)        (avocado)            0.238267            0.033200   \n",
      "2           (cake)        (burgers)            0.081067            0.087200   \n",
      "3        (burgers)           (cake)            0.087200            0.081067   \n",
      "4        (burgers)      (chocolate)            0.087200            0.163867   \n",
      "\n",
      "    support  confidence      lift  representativity  leverage  conviction  \\\n",
      "0  0.011467    0.345382  1.449559               1.0  0.003556    1.163629   \n",
      "1  0.011467    0.048125  1.449559               1.0  0.003556    1.015680   \n",
      "2  0.011467    0.141447  1.622103               1.0  0.004398    1.063185   \n",
      "3  0.011467    0.131498  1.622103               1.0  0.004398    1.058068   \n",
      "4  0.017067    0.195719  1.194377               1.0  0.002777    1.039603   \n",
      "\n",
      "   zhangs_metric   jaccard  certainty  kulczynski  \n",
      "0       0.320785  0.044103   0.140620    0.196753  \n",
      "1       0.407144  0.044103   0.015438    0.196753  \n",
      "2       0.417349  0.073129   0.059430    0.136473  \n",
      "3       0.420154  0.073129   0.054881    0.136473  \n",
      "4       0.178291  0.072934   0.038094    0.149934  \n"
     ]
    }
   ],
   "source": [
    "# Apply the Apriori algorithm\n",
    "frequent_itemsets = apriori(basket, min_support=0.01, use_colnames=True)\n",
    "\n",
    "# Display the frequent itemsets\n",
    "print(frequent_itemsets.head())\n",
    "\n",
    "# Generate the association rules\n",
    "Association_rules = association_rules(frequent_itemsets, metric=\"lift\", min_threshold=1.0)\n",
    "\n",
    "# Display the rules\n",
    "print(Association_rules.head())"
   ]
  },
  {
   "cell_type": "code",
   "execution_count": 62,
   "id": "3bfee354-8d84-448e-b10f-abe175c5d6b4",
   "metadata": {},
   "outputs": [
    {
     "name": "stdout",
     "output_type": "stream",
     "text": [
      "                    antecedents                 consequents  \\\n",
      "217             (herb & pepper)               (ground beef)   \n",
      "216               (ground beef)             (herb & pepper)   \n",
      "388               (ground beef)  (spaghetti, mineral water)   \n",
      "385  (spaghetti, mineral water)               (ground beef)   \n",
      "398  (spaghetti, mineral water)                 (olive oil)   \n",
      "399                 (olive oil)  (spaghetti, mineral water)   \n",
      "195                  (tomatoes)         (frozen vegetables)   \n",
      "194         (frozen vegetables)                  (tomatoes)   \n",
      "190         (frozen vegetables)                    (shrimp)   \n",
      "191                    (shrimp)         (frozen vegetables)   \n",
      "\n",
      "     antecedent support  consequent support   support  confidence      lift  \\\n",
      "217            0.049467            0.098267  0.016000    0.323450  3.291555   \n",
      "216            0.098267            0.049467  0.016000    0.162822  3.291555   \n",
      "388            0.098267            0.059733  0.017067    0.173677  2.907540   \n",
      "385            0.059733            0.098267  0.017067    0.285714  2.907540   \n",
      "398            0.059733            0.065733  0.010267    0.171875  2.614731   \n",
      "399            0.065733            0.059733  0.010267    0.156187  2.614731   \n",
      "195            0.068400            0.095333  0.016133    0.235867  2.474134   \n",
      "194            0.095333            0.068400  0.016133    0.169231  2.474134   \n",
      "190            0.095333            0.071333  0.016667    0.174825  2.450820   \n",
      "191            0.071333            0.095333  0.016667    0.233645  2.450820   \n",
      "\n",
      "     representativity  leverage  conviction  zhangs_metric   jaccard  \\\n",
      "217               1.0  0.011139    1.332841       0.732423  0.121457   \n",
      "216               1.0  0.011139    1.135402       0.772060  0.121457   \n",
      "388               1.0  0.011197    1.137893       0.727562  0.121097   \n",
      "385               1.0  0.011197    1.262427       0.697745  0.121097   \n",
      "398               1.0  0.006340    1.128171       0.656783  0.089120   \n",
      "399               1.0  0.006340    1.114306       0.661001  0.089120   \n",
      "195               1.0  0.009613    1.183913       0.639564  0.109304   \n",
      "194               1.0  0.009613    1.121370       0.658605  0.109304   \n",
      "190               1.0  0.009866    1.125418       0.654355  0.111111   \n",
      "191               1.0  0.009866    1.180480       0.637444  0.111111   \n",
      "\n",
      "     certainty  kulczynski  \n",
      "217   0.249723    0.243136  \n",
      "216   0.119255    0.243136  \n",
      "388   0.121182    0.229696  \n",
      "385   0.207875    0.229696  \n",
      "398   0.113610    0.164031  \n",
      "399   0.102581    0.164031  \n",
      "195   0.155344    0.202549  \n",
      "194   0.108234    0.202549  \n",
      "190   0.111441    0.204235  \n",
      "191   0.152887    0.204235  \n"
     ]
    }
   ],
   "source": [
    "#sort the rules by lift~\n",
    "rules=rules.sort_values(by='lift',ascending=False)\n",
    "\n",
    "#top 10 rules~\n",
    "print(rules.head(10))"
   ]
  },
  {
   "cell_type": "markdown",
   "id": "49576593-3b6c-43ae-b7c8-b4f8b4d2a1f6",
   "metadata": {},
   "source": [
    "### Analysis and Interpretation:"
   ]
  },
  {
   "cell_type": "code",
   "execution_count": 76,
   "id": "5748c600-c21f-4611-8145-292a1eeb766c",
   "metadata": {},
   "outputs": [
    {
     "name": "stdout",
     "output_type": "stream",
     "text": [
      "Rule: ['herb & pepper'] -> ['ground beef']\n",
      "Support: 0.016\n",
      "Confidence: 0.3234501347708895\n",
      "Lift: 3.2915549671393096\n",
      "\n",
      "Rule: ['ground beef'] -> ['herb & pepper']\n",
      "Support: 0.016\n",
      "Confidence: 0.1628222523744912\n",
      "Lift: 3.2915549671393096\n",
      "\n",
      "Rule: ['ground beef'] -> ['spaghetti', 'mineral water']\n",
      "Support: 0.017066666666666667\n",
      "Confidence: 0.17367706919945727\n",
      "Lift: 2.907540220973057\n",
      "\n",
      "Rule: ['spaghetti', 'mineral water'] -> ['ground beef']\n",
      "Support: 0.017066666666666667\n",
      "Confidence: 0.28571428571428575\n",
      "Lift: 2.907540220973057\n",
      "\n",
      "Rule: ['spaghetti', 'mineral water'] -> ['olive oil']\n",
      "Support: 0.010266666666666667\n",
      "Confidence: 0.171875\n",
      "Lift: 2.614731237322515\n",
      "\n",
      "Rule: ['olive oil'] -> ['spaghetti', 'mineral water']\n",
      "Support: 0.010266666666666667\n",
      "Confidence: 0.1561866125760649\n",
      "Lift: 2.614731237322515\n",
      "\n",
      "Rule: ['tomatoes'] -> ['frozen vegetables']\n",
      "Support: 0.016133333333333333\n",
      "Confidence: 0.23586744639376217\n",
      "Lift: 2.4741340530814213\n",
      "\n",
      "Rule: ['frozen vegetables'] -> ['tomatoes']\n",
      "Support: 0.016133333333333333\n",
      "Confidence: 0.1692307692307692\n",
      "Lift: 2.4741340530814213\n",
      "\n",
      "Rule: ['frozen vegetables'] -> ['shrimp']\n",
      "Support: 0.016666666666666666\n",
      "Confidence: 0.17482517482517482\n",
      "Lift: 2.4508202078295533\n",
      "\n",
      "Rule: ['shrimp'] -> ['frozen vegetables']\n",
      "Support: 0.016666666666666666\n",
      "Confidence: 0.2336448598130841\n",
      "Lift: 2.4508202078295533\n",
      "\n"
     ]
    }
   ],
   "source": [
    "#results\n",
    "\n",
    "for index, rule in rules.head(10).iterrows():\n",
    "    antecedents = list(rule['antecedents'])\n",
    "    consequents = list(rule['consequents'])\n",
    "    print(f\"Rule: {antecedents} -> {consequents}\")\n",
    "    print(f\"Support: {rule['support']}\")\n",
    "    print(f\"Confidence: {rule['confidence']}\")\n",
    "    print(f\"Lift: {rule['lift']}\\n\")"
   ]
  },
  {
   "cell_type": "raw",
   "id": "448b7030-f8b4-4427-b215-727b63e19cb8",
   "metadata": {},
   "source": [
    "Interview Questions:\n",
    "1.\tWhat is lift and why is it important in Association rules?\n",
    "2.\tWhat is support and Confidence. How do you calculate them?\n",
    "3.\tWhat are some limitations or challenges of Association rules mining?\n"
   ]
  },
  {
   "cell_type": "raw",
   "id": "77948e84-65c8-414d-8ab3-9b0c44ca7782",
   "metadata": {},
   "source": [
    "What is Lift in Association Rule Mining?\n",
    "Lift is a measure that evaluates how much more likely two items are to be purchased together compared to what we would expect if they were independent. It helps determine the strength of an association rule beyond just confidence.\n",
    "\n",
    "Formula for Lift:  Lift=Confidence (A → B)/Support (B)\n",
    "\n",
    "Where:\n",
    "Confidence (A → B) = Probability that B is bought when A is bought.\n",
    "Support (B) = Probability that B is bought overall.\n",
    "\n",
    "Interpreting Lift:\n",
    "Lift > 1 → Positive association (A and B are bought together more often than expected).\n",
    "Lift = 1 → No association (A and B are bought together as expected by chance).\n",
    "Lift < 1 → Negative association (A and B are bought together less often than expected).\n",
    "\n",
    "Why is Lift Important?\n",
    "*Filters Out Random Co-occurrences:\n",
    "Unlike confidence, lift accounts for item popularity, preventing misleading rules.\n",
    "\n",
    "*Identifies Strong Relationships:\n",
    "Higher lift values indicate stronger, non-random associations useful for marketing strategies.\n",
    "\n",
    "*Improves Decision-Making:\n",
    "Helps retailers recommend products (e.g., \"People who buy milk also buy bread\")."
   ]
  },
  {
   "cell_type": "raw",
   "id": "7b0165b8-afdb-4154-8760-457ba0c57a0d",
   "metadata": {},
   "source": [
    "2.Support: Support measures how frequently an item or itemset appears in the dataset.\n",
    "\n",
    "Formula for Support: Support(A)=Number of Transactions Containing (A)/Total Number of Transactions\n",
    "\n",
    "Example:\n",
    "If we have 1,000 transactions and \"Milk\" appears in 150 of them, then:\n",
    "\n",
    "                  Support(Milk)=150/1000=0.15\n",
    "\n",
    "(Meaning 15% of all transactions contain \"Milk\")\n",
    "For a rule (e.g., Milk → Bread), the support is:\n",
    "\n",
    "Support(Milk, Bread)=Transactions Containing Both Milk and Bread/Total Transactions\n",
    " \n",
    "Confidence:Confidence measures how often item B is purchased when item A is purchased.\n",
    "\n",
    "Formula for Confidence:\n",
    "              Confidence(A → B)=Support(A, B)/Support(A)\n",
    " \n",
    "Example:\n",
    "Support(Milk, Bread) = 0.10 (10% of transactions contain both)\n",
    "Support(Milk) = 0.15 (Milk appears in 15% of transactions)\n",
    "Then:\n",
    "\n",
    "Confidence(Milk → Bread)=0.10/0.15=0.67\n",
    "\n",
    "This means 67% of the time, when customers buy Milk, they also buy Bread."
   ]
  },
  {
   "cell_type": "raw",
   "id": "8f6f9346-6e3d-41b9-8908-db7a894d95f0",
   "metadata": {},
   "source": [
    "Limitations and Challenges of Association Rule Mining:\n",
    "While association rule mining is a powerful technique for discovering relationships between items in large datasets, it has several challenges and limitations:\n",
    "\n",
    "1. High Computational Complexity\n",
    "Issue: The Apriori algorithm scans the dataset multiple times, making it slow and inefficient for large datasets.\n",
    "Solution: Use optimized algorithms like FP-Growth, which reduces redundant scans.\n",
    "\n",
    "2. Choosing the Right Support & Confidence Thresholds\n",
    "Issue: If support is set too high, important but less frequent associations may be missed. If it’s too low, too many weak rules are generated.\n",
    "Solution: Experiment with different thresholds and use lift to find meaningful rules.\n",
    "\n",
    "3. Generating Too Many Rules (Rule Explosion)\n",
    "Issue: Large datasets can produce millions of rules, many of which are trivial or unhelpful.\n",
    "Solution:\n",
    "Use higher confidence/lift thresholds to filter weak rules.\n",
    "Apply post-processing techniques to remove redundant rules.\n",
    "\n",
    "4. Difficulty in Interpreting Rules\n",
    "Issue: Some rules may not be meaningful or actionable. For example, \"Customers who buy milk also buy bread\" is expected.\n",
    "Solution:\n",
    "Focus on unexpected or high-lift rules.\n",
    "Validate rules with domain experts.\n",
    "\n",
    "5. Handling Rare Items\n",
    "Issue: Items with low support are often ignored, even if they have high confidence.\n",
    "Solution: Use lower support thresholds for rare but valuable itemsets.\n",
    "\n",
    "6. Data Quality Issues\n",
    "Issue: Association rule mining is sensitive to:\n",
    "Missing values\n",
    "Duplicate transactions\n",
    "Incorrect product names (e.g., “Milk” vs. “milk”)\n",
    "Solution: Clean and preprocess data carefully before applying Apriori.\n",
    "\n",
    "7. Lack of Temporal Context (No Time Factor)\n",
    "Issue: Standard association rule mining does not consider time. A customer may buy an item later, but the rule won’t capture that.\n",
    "Solution: Use sequential pattern mining techniques instead.\n",
    "\n",
    "Final Thoughts:-\n",
    "Despite these challenges, association rule mining is a valuable tool for discovering patterns in sales and customer behavior. The key is careful data preprocessing, choosing optimal thresholds, and filtering irrelevant rules."
   ]
  },
  {
   "cell_type": "code",
   "execution_count": null,
   "id": "91bd94f2-82df-42b7-a911-490ad81d2010",
   "metadata": {},
   "outputs": [],
   "source": []
  }
 ],
 "metadata": {
  "kernelspec": {
   "display_name": "Python [conda env:base] *",
   "language": "python",
   "name": "conda-base-py"
  },
  "language_info": {
   "codemirror_mode": {
    "name": "ipython",
    "version": 3
   },
   "file_extension": ".py",
   "mimetype": "text/x-python",
   "name": "python",
   "nbconvert_exporter": "python",
   "pygments_lexer": "ipython3",
   "version": "3.12.7"
  }
 },
 "nbformat": 4,
 "nbformat_minor": 5
}

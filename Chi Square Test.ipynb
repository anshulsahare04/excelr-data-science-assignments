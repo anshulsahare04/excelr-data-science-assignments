{
 "cells": [
  {
   "cell_type": "markdown",
   "id": "3e6a7f79-b057-4eec-9050-36029b8da048",
   "metadata": {},
   "source": [
    "## CHI-SQUARE TEST"
   ]
  },
  {
   "cell_type": "raw",
   "id": "e6d49ab8-4e9a-4bc9-aee9-64ff694347fc",
   "metadata": {},
   "source": [
    "\n",
    "Association between Device Type and Customer Satisfaction\n",
    "\n",
    "Background:\n",
    "Mizzare Corporation has collected data on customer satisfaction levels for two types of smart \n",
    "\n",
    "home devices: Smart Thermostats and Smart Lights. They want to determine if there's a significant association between the type of device purchased and the customer's satisfaction level.\n",
    "\n",
    "Data Provided:\n",
    "The data is summarized in a contingency table showing the counts of customers in each satisfaction level for both types of devices:\n",
    "Satisfaction\tSmart Thermostat\tSmart Light \tTotal\n",
    "Very Satisfied\t 50\t                70\t             120\n",
    "Satisfied\t     80\t                100\t             180\n",
    "Neutral\t         60\t                90\t             150\n",
    "Unsatisfied\t     30\t                50\t             80\n",
    "Very Unsatisfied 20\t                50\t             70\n",
    "Total\t         240\t            360\t             600\n",
    "\n",
    "Objective:\n",
    "To use the Chi-Square test for independence to determine if there's a significant association between the type of smart home device purchased (Smart Thermostats vs. Smart Lights) and the customer satisfaction level.\n",
    "\n",
    "Assignment Tasks:\n",
    "1. State the Hypotheses:\n",
    "2. Compute the Chi-Square Statistic:\n",
    "3. Determine the Critical Value:\n",
    "Using the significance level (alpha) of 0.05 and the degrees of freedom (which is the number of categories minus 1)\n",
    "4. Make a Decision:\n",
    "Compare the Chi-Square statistic with the critical value to decide whether to reject the null hypothesis.\n",
    "\n",
    "Submission Guidelines:\n",
    "•\tProvide a detailed report of your analysis, including each step outlined in the assignment tasks in a python file.\n",
    "•\tInclude all calculations, the Chi-Square statistic, the critical value, and your conclusion.\n"
   ]
  },
  {
   "cell_type": "code",
   "execution_count": 40,
   "id": "15550e7d-4293-43ed-b77c-0abe62dac702",
   "metadata": {},
   "outputs": [],
   "source": [
    "import pandas as pd\n",
    "import numpy as np\n",
    "import scipy.stats as stats\n",
    "from scipy.stats import chi2_contingency"
   ]
  },
  {
   "cell_type": "raw",
   "id": "ad770031-94d6-4a1f-bf24-d57304e2bfc6",
   "metadata": {},
   "source": [
    "State the Hypotheses:\n",
    "Null Hypothesis (H₀): Assumes no effect or no difference between variables.\n",
    "Alternative Hypothesis (H₁ or Hₐ): Assumes there is an effect or a difference."
   ]
  },
  {
   "cell_type": "code",
   "execution_count": 20,
   "id": "82debedc-8cce-421f-906c-bc1ab8720c0c",
   "metadata": {},
   "outputs": [
    {
     "data": {
      "text/plain": [
       "{'Satisfaction': ['Very Satisfied',\n",
       "  'Satisfied',\n",
       "  'Neutral',\n",
       "  'Unsatisfied',\n",
       "  'Very Unsatisfied'],\n",
       " 'Smart Thermostats': [50, 80, 60, 30, 20],\n",
       " 'Smart Light': [70, 100, 90, 50, 50]}"
      ]
     },
     "execution_count": 20,
     "metadata": {},
     "output_type": "execute_result"
    }
   ],
   "source": [
    "dict1={'Satisfaction':['Very Satisfied','Satisfied','Neutral','Unsatisfied','Very Unsatisfied'],'Smart Thermostats':[50,80,60,30,20],'Smart Light':[70,100,90,50,50]}\n",
    "dict1"
   ]
  },
  {
   "cell_type": "code",
   "execution_count": 22,
   "id": "f99f8362-26c1-4ea6-b776-2d2aeb1c296b",
   "metadata": {},
   "outputs": [
    {
     "data": {
      "text/html": [
       "<div>\n",
       "<style scoped>\n",
       "    .dataframe tbody tr th:only-of-type {\n",
       "        vertical-align: middle;\n",
       "    }\n",
       "\n",
       "    .dataframe tbody tr th {\n",
       "        vertical-align: top;\n",
       "    }\n",
       "\n",
       "    .dataframe thead th {\n",
       "        text-align: right;\n",
       "    }\n",
       "</style>\n",
       "<table border=\"1\" class=\"dataframe\">\n",
       "  <thead>\n",
       "    <tr style=\"text-align: right;\">\n",
       "      <th></th>\n",
       "      <th>Satisfaction</th>\n",
       "      <th>Smart Thermostats</th>\n",
       "      <th>Smart Light</th>\n",
       "    </tr>\n",
       "  </thead>\n",
       "  <tbody>\n",
       "    <tr>\n",
       "      <th>0</th>\n",
       "      <td>Very Satisfied</td>\n",
       "      <td>50</td>\n",
       "      <td>70</td>\n",
       "    </tr>\n",
       "    <tr>\n",
       "      <th>1</th>\n",
       "      <td>Satisfied</td>\n",
       "      <td>80</td>\n",
       "      <td>100</td>\n",
       "    </tr>\n",
       "    <tr>\n",
       "      <th>2</th>\n",
       "      <td>Neutral</td>\n",
       "      <td>60</td>\n",
       "      <td>90</td>\n",
       "    </tr>\n",
       "    <tr>\n",
       "      <th>3</th>\n",
       "      <td>Unsatisfied</td>\n",
       "      <td>30</td>\n",
       "      <td>50</td>\n",
       "    </tr>\n",
       "    <tr>\n",
       "      <th>4</th>\n",
       "      <td>Very Unsatisfied</td>\n",
       "      <td>20</td>\n",
       "      <td>50</td>\n",
       "    </tr>\n",
       "  </tbody>\n",
       "</table>\n",
       "</div>"
      ],
      "text/plain": [
       "       Satisfaction  Smart Thermostats  Smart Light\n",
       "0    Very Satisfied                 50           70\n",
       "1         Satisfied                 80          100\n",
       "2           Neutral                 60           90\n",
       "3       Unsatisfied                 30           50\n",
       "4  Very Unsatisfied                 20           50"
      ]
     },
     "execution_count": 22,
     "metadata": {},
     "output_type": "execute_result"
    }
   ],
   "source": [
    "df=pd.DataFrame(dict1)\n",
    "df"
   ]
  },
  {
   "cell_type": "code",
   "execution_count": 24,
   "id": "129d03ba-e53b-49ab-a1f5-6cf6a6b53f53",
   "metadata": {},
   "outputs": [
    {
     "data": {
      "text/html": [
       "<div>\n",
       "<style scoped>\n",
       "    .dataframe tbody tr th:only-of-type {\n",
       "        vertical-align: middle;\n",
       "    }\n",
       "\n",
       "    .dataframe tbody tr th {\n",
       "        vertical-align: top;\n",
       "    }\n",
       "\n",
       "    .dataframe thead th {\n",
       "        text-align: right;\n",
       "    }\n",
       "</style>\n",
       "<table border=\"1\" class=\"dataframe\">\n",
       "  <thead>\n",
       "    <tr style=\"text-align: right;\">\n",
       "      <th></th>\n",
       "      <th>Smart Thermostats</th>\n",
       "      <th>Smart Light</th>\n",
       "    </tr>\n",
       "  </thead>\n",
       "  <tbody>\n",
       "    <tr>\n",
       "      <th>0</th>\n",
       "      <td>50</td>\n",
       "      <td>70</td>\n",
       "    </tr>\n",
       "    <tr>\n",
       "      <th>1</th>\n",
       "      <td>80</td>\n",
       "      <td>100</td>\n",
       "    </tr>\n",
       "    <tr>\n",
       "      <th>2</th>\n",
       "      <td>60</td>\n",
       "      <td>90</td>\n",
       "    </tr>\n",
       "    <tr>\n",
       "      <th>3</th>\n",
       "      <td>30</td>\n",
       "      <td>50</td>\n",
       "    </tr>\n",
       "    <tr>\n",
       "      <th>4</th>\n",
       "      <td>20</td>\n",
       "      <td>50</td>\n",
       "    </tr>\n",
       "  </tbody>\n",
       "</table>\n",
       "</div>"
      ],
      "text/plain": [
       "   Smart Thermostats  Smart Light\n",
       "0                 50           70\n",
       "1                 80          100\n",
       "2                 60           90\n",
       "3                 30           50\n",
       "4                 20           50"
      ]
     },
     "execution_count": 24,
     "metadata": {},
     "output_type": "execute_result"
    }
   ],
   "source": [
    "df1 = df.select_dtypes(include = np.number)\n",
    "df1"
   ]
  },
  {
   "cell_type": "raw",
   "id": "49be769d-a18a-4ead-b289-60c4b3f7c482",
   "metadata": {},
   "source": [
    "# Perform chi-square test for independence\n",
    "chi2, p, dof, expected = chi2_contingency(observed)"
   ]
  },
  {
   "cell_type": "code",
   "execution_count": 64,
   "id": "64e0b895-9e94-4958-98cc-a9e2a48cc2d9",
   "metadata": {},
   "outputs": [],
   "source": [
    "#contingency table data\n",
    "chi2_stats= stats.chi2_contingency(df1)    #convert in the form of an array"
   ]
  },
  {
   "cell_type": "code",
   "execution_count": 30,
   "id": "69b4019a-aae5-4116-985d-a5929d029ddc",
   "metadata": {},
   "outputs": [
    {
     "data": {
      "text/plain": [
       "Chi2ContingencyResult(statistic=5.638227513227513, pvalue=0.22784371130697179, dof=4, expected_freq=array([[ 48.,  72.],\n",
       "       [ 72., 108.],\n",
       "       [ 60.,  90.],\n",
       "       [ 32.,  48.],\n",
       "       [ 28.,  42.]]))"
      ]
     },
     "execution_count": 30,
     "metadata": {},
     "output_type": "execute_result"
    }
   ],
   "source": [
    "chi2_stats"
   ]
  },
  {
   "cell_type": "raw",
   "id": "e08a2a63-9c89-4194-8088-c216917d8dce",
   "metadata": {},
   "source": [
    "alpha=0.05\n",
    "Digree of freedom=4    # dof=(number of columns-1)*(number of rows-1)=4"
   ]
  },
  {
   "cell_type": "code",
   "execution_count": 66,
   "id": "2356b0eb-bf7e-4508-99bb-9e2ed51e0ccf",
   "metadata": {},
   "outputs": [
    {
     "data": {
      "text/plain": [
       "9.487729036781154"
      ]
     },
     "execution_count": 66,
     "metadata": {},
     "output_type": "execute_result"
    }
   ],
   "source": [
    "#Critical value\n",
    "chi2_critical=stats.chi2.ppf(0.95,4)\n",
    "chi2_critical"
   ]
  },
  {
   "cell_type": "raw",
   "id": "bd1c0453-7d82-460d-b9b7-f1efbb2cfd1d",
   "metadata": {},
   "source": [
    "CONCLUSION:\n",
    "chi2_stats < chi2_critical.\n",
    "\n",
    "chi2_stats=5.638227513227513 and chi2_critical=9.487729036781154\n",
    "chi2_stats value is less than the critical value.\n",
    "\n",
    "Reject the null hypothesis: There is a no significant association between device type and customer satisfaction."
   ]
  },
  {
   "cell_type": "code",
   "execution_count": null,
   "id": "f0041d16-44d9-4c33-83e0-a3b38804950c",
   "metadata": {},
   "outputs": [],
   "source": []
  }
 ],
 "metadata": {
  "kernelspec": {
   "display_name": "Python [conda env:base] *",
   "language": "python",
   "name": "conda-base-py"
  },
  "language_info": {
   "codemirror_mode": {
    "name": "ipython",
    "version": 3
   },
   "file_extension": ".py",
   "mimetype": "text/x-python",
   "name": "python",
   "nbconvert_exporter": "python",
   "pygments_lexer": "ipython3",
   "version": "3.12.7"
  }
 },
 "nbformat": 4,
 "nbformat_minor": 5
}

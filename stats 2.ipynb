{
 "cells": [
  {
   "cell_type": "markdown",
   "id": "330e073e-b460-4b60-8acc-149188687f64",
   "metadata": {},
   "source": [
    "## Estimation And Confidence Intervals"
   ]
  },
  {
   "cell_type": "raw",
   "id": "e4fed07b-5582-4d31-80b2-9476a6856cb9",
   "metadata": {},
   "source": [
    "\n",
    "Background:\n",
    "In quality control processes, especially when dealing with high-value items, destructive sampling is a necessary but costly method to ensure product quality. The test to determine whether an item meets the quality standards destroys the item, leading to the requirement of small sample sizes due to cost constraints.\n",
    "\n",
    "Scenario:\n",
    "A manufacturer of print-heads for personal computers is interested in estimating the mean durability of their print-heads in terms of the number of characters printed before failure. To assess this, the manufacturer conducts a study on a small sample of print-heads due to the destructive nature of the testing process.\n",
    "\n",
    "Data:\n",
    "A total of 15 print-heads were randomly selected and tested until failure. The durability of each print-head (in millions of characters) was recorded as follows:\n",
    "1.13, 1.55, 1.43, 0.92, 1.25, 1.36, 1.32, 0.85, 1.07, 1.48, 1.20, 1.33, 1.18, 1.22, 1.29\n"
   ]
  },
  {
   "cell_type": "code",
   "execution_count": 2,
   "id": "c0bd4f54-a1af-49df-a159-641094052d16",
   "metadata": {},
   "outputs": [],
   "source": [
    "import pandas as pd\n",
    "import numpy as np\n",
    "import scipy.stats as stats"
   ]
  },
  {
   "cell_type": "code",
   "execution_count": 3,
   "id": "50e852ab-2918-40f6-afde-e6bcd1a6cf43",
   "metadata": {},
   "outputs": [],
   "source": [
    "data= np.array([1.13, 1.55, 1.43, 0.92, 1.25, 1.36, 1.32, 0.85, 1.07, 1.48, 1.20, 1.33, 1.18, 1.22, 1.29])"
   ]
  },
  {
   "cell_type": "code",
   "execution_count": 4,
   "id": "32456fd8-8624-41ac-8b5e-df709691f58e",
   "metadata": {},
   "outputs": [
    {
     "data": {
      "text/plain": [
       "array([1.13, 1.55, 1.43, 0.92, 1.25, 1.36, 1.32, 0.85, 1.07, 1.48, 1.2 ,\n",
       "       1.33, 1.18, 1.22, 1.29])"
      ]
     },
     "execution_count": 4,
     "metadata": {},
     "output_type": "execute_result"
    }
   ],
   "source": [
    "data"
   ]
  },
  {
   "cell_type": "code",
   "execution_count": 5,
   "id": "bddde092-f503-4a0f-b89c-776e68427065",
   "metadata": {},
   "outputs": [
    {
     "data": {
      "text/plain": [
       "1.2386666666666666"
      ]
     },
     "execution_count": 5,
     "metadata": {},
     "output_type": "execute_result"
    }
   ],
   "source": [
    "sample_mean=data.mean()\n",
    "sample_mean"
   ]
  },
  {
   "cell_type": "code",
   "execution_count": 6,
   "id": "bc8f798e-e5ee-458b-81df-43c9b0d1e0d6",
   "metadata": {},
   "outputs": [
    {
     "data": {
      "text/plain": [
       "0.18661427836285438"
      ]
     },
     "execution_count": 6,
     "metadata": {},
     "output_type": "execute_result"
    }
   ],
   "source": [
    "sample_std=np.std(data)\n",
    "sample_std"
   ]
  },
  {
   "cell_type": "code",
   "execution_count": 7,
   "id": "b11218d8-71d5-4788-974d-ffa81aef6674",
   "metadata": {},
   "outputs": [
    {
     "data": {
      "text/plain": [
       "15"
      ]
     },
     "execution_count": 7,
     "metadata": {},
     "output_type": "execute_result"
    }
   ],
   "source": [
    "sample_size=len(data)\n",
    "sample_size"
   ]
  },
  {
   "cell_type": "markdown",
   "id": "b4f75612-9429-41e1-86ac-09aa41e5a4f5",
   "metadata": {},
   "source": [
    "### a. Build 99% Confidence Interval Using Sample Standard Deviation"
   ]
  },
  {
   "cell_type": "code",
   "execution_count": 40,
   "id": "3102afa6-e2eb-48c5-9d97-565677a34af5",
   "metadata": {},
   "outputs": [],
   "source": [
    "confidence_level= 0.99\n",
    "alpha=1- confidence_level"
   ]
  },
  {
   "cell_type": "code",
   "execution_count": 9,
   "id": "6de17632-0cca-44e0-aff3-09c2d32b42b2",
   "metadata": {},
   "outputs": [],
   "source": [
    "dof=sample_size-1  #Digree of freedom"
   ]
  },
  {
   "cell_type": "code",
   "execution_count": 10,
   "id": "f76a50c1-e4c9-4da4-a7be-4a56ec901474",
   "metadata": {},
   "outputs": [
    {
     "data": {
      "text/plain": [
       "2.976842734370834"
      ]
     },
     "execution_count": 10,
     "metadata": {},
     "output_type": "execute_result"
    }
   ],
   "source": [
    "# Calculate the t_critical using (1-alpha/2,degree of freedom)\n",
    "t_critical = stats.t.ppf(0.995,14)\n",
    "t_critical"
   ]
  },
  {
   "cell_type": "code",
   "execution_count": 11,
   "id": "f9b4521b-8372-47d1-a91b-be100b35e1a7",
   "metadata": {},
   "outputs": [
    {
     "data": {
      "text/plain": [
       "0.14343499804054374"
      ]
     },
     "execution_count": 11,
     "metadata": {},
     "output_type": "execute_result"
    }
   ],
   "source": [
    "margin_of_error = t_critical * sample_std / np.sqrt(sample_size)\n",
    "margin_of_error"
   ]
  },
  {
   "cell_type": "code",
   "execution_count": 12,
   "id": "b5ecbfe5-6aa6-4a8d-8249-b7b7e51e0de2",
   "metadata": {},
   "outputs": [
    {
     "data": {
      "text/plain": [
       "(1.0952316686261228, 1.3821016647072104)"
      ]
     },
     "execution_count": 12,
     "metadata": {},
     "output_type": "execute_result"
    }
   ],
   "source": [
    "confidence_interval= (sample_mean - margin_of_error, sample_mean + margin_of_error)\n",
    "confidence_interval"
   ]
  },
  {
   "cell_type": "raw",
   "id": "8ba846ab-c0b7-4de4-882f-677df701820d",
   "metadata": {},
   "source": [
    "Confidence Interval Using Sample Standard Deviation:(1.0952316686261228, 1.3821016647072104)"
   ]
  },
  {
   "cell_type": "markdown",
   "id": "cc452f11-8171-45fa-8021-9a74addb430e",
   "metadata": {},
   "source": [
    "### b. Build 99% Confidence Interval Using Known Population Standard Deviation"
   ]
  },
  {
   "cell_type": "code",
   "execution_count": 32,
   "id": "3b6e92db-ae74-42b1-91b2-5cc7bf4abeeb",
   "metadata": {},
   "outputs": [
    {
     "data": {
      "text/plain": [
       "2.3263478740408408"
      ]
     },
     "execution_count": 32,
     "metadata": {},
     "output_type": "execute_result"
    }
   ],
   "source": [
    "population_std=0.2\n",
    "\n",
    "#Calculate the Z_critical value for the range (1-alpha/2), where alpha = 1-confidence interval\n",
    "z_critical=stats.norm.ppf(0.99)\n",
    "z_critical"
   ]
  },
  {
   "cell_type": "code",
   "execution_count": 34,
   "id": "50c5bb11-9bd1-4b0a-9b73-16216266f00a",
   "metadata": {},
   "outputs": [
    {
     "data": {
      "text/plain": [
       "0.12013208764860274"
      ]
     },
     "execution_count": 34,
     "metadata": {},
     "output_type": "execute_result"
    }
   ],
   "source": [
    "margin_of_error2=(z_critical*population_std)/np.sqrt(sample_size)\n",
    "\n",
    "margin_of_error2"
   ]
  },
  {
   "cell_type": "code",
   "execution_count": 36,
   "id": "884971f2-8c74-426c-8cca-45e1b7e75975",
   "metadata": {},
   "outputs": [
    {
     "data": {
      "text/plain": [
       "(1.1185345790180639, 1.3587987543152693)"
      ]
     },
     "execution_count": 36,
     "metadata": {},
     "output_type": "execute_result"
    }
   ],
   "source": [
    "confidence_interval2= (sample_mean - margin_of_error2, sample_mean + margin_of_error2)\n",
    "confidence_interval2"
   ]
  },
  {
   "cell_type": "raw",
   "id": "c9ed5a89-0c6d-4304-9578-c3fee2ac5131",
   "metadata": {},
   "source": [
    "Confidence Interval Using Known Population Standard Deviation: (1.1185345790180639,1.3587987543152693)"
   ]
  },
  {
   "cell_type": "code",
   "execution_count": null,
   "id": "e889519d-80f7-47c6-9d8a-fa78d2cb150b",
   "metadata": {},
   "outputs": [],
   "source": []
  }
 ],
 "metadata": {
  "kernelspec": {
   "display_name": "Python [conda env:base] *",
   "language": "python",
   "name": "conda-base-py"
  },
  "language_info": {
   "codemirror_mode": {
    "name": "ipython",
    "version": 3
   },
   "file_extension": ".py",
   "mimetype": "text/x-python",
   "name": "python",
   "nbconvert_exporter": "python",
   "pygments_lexer": "ipython3",
   "version": "3.12.7"
  }
 },
 "nbformat": 4,
 "nbformat_minor": 5
}
